{
 "cells": [
  {
   "cell_type": "markdown",
   "id": "7d93611c",
   "metadata": {},
   "source": [
    "### Phase 3- SQL operations"
   ]
  },
  {
   "cell_type": "code",
   "execution_count": 1,
   "id": "04344571",
   "metadata": {},
   "outputs": [],
   "source": [
    "import sqlite3\n",
    "import csv\n",
    "import pandas as pd"
   ]
  },
  {
   "cell_type": "code",
   "execution_count": 2,
   "id": "4bdc6c8d",
   "metadata": {},
   "outputs": [],
   "source": [
    "db=sqlite3.connect(\"crime_database\")"
   ]
  },
  {
   "cell_type": "code",
   "execution_count": 3,
   "id": "1de34cd6",
   "metadata": {},
   "outputs": [],
   "source": [
    "cursor=db.cursor()"
   ]
  },
  {
   "cell_type": "code",
   "execution_count": 4,
   "id": "c2095c6c",
   "metadata": {},
   "outputs": [],
   "source": [
    "cursor.execute(\"CREATE TABLE crime_against_women (state UT TEXT,DISTRICT TEXT,Year INT,Rape INT,Kindanpping INT,Dowry Deaths INT,Assault INT,Insult  INT,Cruelty by Husband  INT,Importation of Girls INT) \")\n",
    "db.commit()"
   ]
  },
  {
   "cell_type": "markdown",
   "id": "8c4a62a9",
   "metadata": {},
   "source": [
    "#### 3.1 Insert records from 42_District_wise_crimes_committed_against_women_2001_2012.csv into a table"
   ]
  },
  {
   "cell_type": "code",
   "execution_count": 6,
   "id": "a92b4a02",
   "metadata": {},
   "outputs": [],
   "source": [
    "with open('42_District_wise_crimes_committed_against_women_2001_2012.csv','r') as file :\n",
    "    #here r is read as\n",
    "    no_records=0\n",
    "    for row in file:\n",
    "        cursor.execute(\"INSERT INTO crime_against_women VALUES(?,?,?,?,?,?,?,?,?,?)\",row.split(\",\"))#it will split the data row.split\n",
    "        db.commit()\n",
    "        no_records += 1\n",
    "    "
   ]
  },
  {
   "cell_type": "code",
   "execution_count": 7,
   "id": "17218cf4",
   "metadata": {},
   "outputs": [
    {
     "name": "stdout",
     "output_type": "stream",
     "text": [
      "9018 Records Inserted\n"
     ]
    }
   ],
   "source": [
    "print(no_records,'Records Inserted')"
   ]
  },
  {
   "cell_type": "markdown",
   "id": "f7b81937",
   "metadata": {},
   "source": [
    "#### 3.2 Write SQL query to find the highest number of rapes & Kidnappings that happened in which state, District, and year"
   ]
  },
  {
   "cell_type": "code",
   "execution_count": 9,
   "id": "4ae74d0a",
   "metadata": {},
   "outputs": [
    {
     "name": "stdout",
     "output_type": "stream",
     "text": [
      "('\"STATE/UT\"', '\"DISTRICT\"', '\"Year\"', '\"Rape\"', '\"Kidnapping and Abduction\"')\n",
      "('\"UTTAR PRADESH\"', '\"TOTAL\"', 2012, 3425, 7910)\n",
      "('\"UTTAR PRADESH\"', '\"TOTAL\"', 2011, 3406, 7525)\n",
      "('\"UTTAR PRADESH\"', '\"TOTAL\"', 2010, 3135, 5468)\n",
      "('\"UTTAR PRADESH\"', '\"TOTAL\"', 2009, 2998, 5078)\n",
      "('\"UTTAR PRADESH\"', '\"TOTAL\"', 2008, 2937, 4439)\n",
      "('\"UTTAR PRADESH\"', '\"TOTAL\"', 2007, 3010, 3363)\n",
      "('\"UTTAR PRADESH\"', '\"TOTAL\"', 2001, 2851, 2879)\n",
      "('\"UTTAR PRADESH\"', '\"TOTAL\"', 2006, 2900, 2551)\n",
      "('\"UTTAR PRADESH\"', '\"TOTAL\"', 2004, 2875, 2324)\n",
      "('\"UTTAR PRADESH\"', '\"TOTAL\"', 2002, 2891, 2298)\n",
      "('\"UTTAR PRADESH\"', '\"TOTAL\"', 2005, 2921, 2256)\n",
      "('\"RAJASTHAN\"', '\"TOTAL\"', 2003, 2738, 1750)\n"
     ]
    }
   ],
   "source": [
    "result=cursor.execute(\"SELECT  state UT, DISTRICT ,Year ,MAX(Rape), MAX(Kindanpping) FROM crime_against_women WHERE NOT DISTRICT='TOTAL' AND NOT DISTRICT='DELHI UT TOTAL' GROUP BY Year ORDER BY Kindanpping DESC\")\n",
    "for row in result:\n",
    "    print(row)"
   ]
  },
  {
   "cell_type": "markdown",
   "id": "5e68d253",
   "metadata": {},
   "source": [
    "* The state, district and year with district with Highest Rape and Kidnapping i.e  UTTAR PRADESH in year 2011 with 3425 rape and 7910 Kidnapping cases\n",
    "\n",
    "#### 3.3 Write SQL query to find All the lowest number of rapes & Kidnappings that happened in which state, District, and year"
   ]
  },
  {
   "cell_type": "code",
   "execution_count": 11,
   "id": "9e74bba8",
   "metadata": {},
   "outputs": [
    {
     "name": "stdout",
     "output_type": "stream",
     "text": [
      "('\"A & N ISLANDS\"', '\"NICOBAR\"', 2001, 0, 0)\n",
      "('\"ANDHRA PRADESH\"', '\"GUNTAKAL RLY.\"', 2001, 0, 0)\n",
      "('\"ARUNACHAL PRADESH\"', '\"TAWANG\"', 2001, 0, 0)\n",
      "('\"ASSAM\"', '\"C.I.D.\"', 2001, 0, 0)\n",
      "('\"BIHAR\"', '\"ARWAL\"', 2001, 0, 0)\n",
      "('\"CHHATTISGARH\"', '\"BIZAPUR\"', 2001, 0, 0)\n",
      "('\"DAMAN & DIU\"', '\"DIU\"', 2001, 0, 0)\n",
      "('\"DELHI\"', '\"S.T.F.\"', 2001, 0, 0)\n",
      "('\"GUJARAT\"', '\"W.RLY\"', 2001, 0, 0)\n",
      "('\"HARYANA\"', '\"GRP\"', 2002, 0, 0)\n",
      "('\"HIMACHAL PRADESH\"', '\"G.R.P.\"', 2001, 0, 0)\n",
      "('\"JAMMU & KASHMIR\"', '\"CRIME JAMMU\"', 2001, 0, 0)\n",
      "('\"JHARKHAND\"', '\"DEOGHAR\"', 2001, 0, 0)\n",
      "('\"KARNATAKA\"', '\"CHITRADURGA\"', 2001, 0, 0)\n",
      "('\"KERALA\"', '\"CBCID\"', 2001, 0, 0)\n",
      "('\"LAKSHADWEEP\"', '\"LAKSHADWEEP\"', 2001, 0, 0)\n",
      "('\"MADHYA PRADESH\"', '\"INDORE RLY.\"', 2001, 0, 0)\n",
      "('\"MAHARASHTRA\"', '\"MUMBAI RLY.\"', 2001, 0, 0)\n",
      "('\"MANIPUR\"', '\"CHURACHANDPUR\"', 2001, 0, 0)\n",
      "('\"MEGHALAYA\"', '\"GARO HILLS EAST\"', 2001, 0, 0)\n",
      "('\"MIZORAM\"', '\"AIZAWL\"', 2001, 0, 0)\n",
      "('\"NAGALAND\"', '\"KIPHIRE\"', 2001, 0, 0)\n",
      "('\"ODISHA\"', '\"RAYAGADA\"', 2001, 0, 0)\n",
      "('\"PUDUCHERRY\"', '\"KARAIKAL\"', 2011, 0, 0)\n",
      "('\"PUNJAB\"', '\"G.R.P\"', 2001, 0, 0)\n",
      "('\"RAJASTHAN\"', '\"G.R.P.\"', 2003, 0, 0)\n",
      "('\"SIKKIM\"', '\"NORTH\"', 2001, 0, 0)\n",
      "('\"TAMIL NADU\"', '\"CHENNAI\"', 2001, 0, 0)\n",
      "('\"TRIPURA\"', '\"DHALAI\"', 2001, 0, 0)\n",
      "('\"UTTAR PRADESH\"', '\"MAHARAJGANJ\"', 2002, 0, 0)\n",
      "('\"UTTARAKHAND\"', '\"NAINITAL\"', 2001, 0, 0)\n",
      "('\"WEST BENGAL\"', '\"ASANSOL\"', 2001, 0, 0)\n",
      "('\"GOA\"', '\"NORTH GOA\"', 2001, 3, 1)\n",
      "('\"D & N HAVELI\"', '\"D and N HAVELI\"', 2001, 1, 2)\n",
      "('\"CHANDIGARH\"', '\"CHANDIGARH\"', 2003, 18, 28)\n",
      "('\"STATE/UT\"', '\"DISTRICT\"', '\"Year\"', '\"Rape\"', '\"Kidnapping and Abduction\"')\n"
     ]
    }
   ],
   "source": [
    "result=cursor.execute(\"SELECT  state UT, DISTRICT ,Year ,MIN(Rape), MIN(Kindanpping) FROM crime_against_women WHERE NOT DISTRICT='TOTAL' AND NOT DISTRICT='DELHI UT TOTAL' GROUP BY UT ORDER BY Kindanpping\")\n",
    "for row in result:\n",
    "    print(row)"
   ]
  },
  {
   "cell_type": "markdown",
   "id": "e5870cf9",
   "metadata": {},
   "source": [
    "* All the above result showing Minimum of Rape And KIdnapping in each state And year.\n",
    "\n",
    "### 3.4 Insert records from 02_District_wise_crimes_committed_against_ST_2001_2012.csv into a new table"
   ]
  },
  {
   "cell_type": "code",
   "execution_count": 12,
   "id": "373ba1f9",
   "metadata": {},
   "outputs": [],
   "source": [
    "cursor.execute(\"CREATE TABLE crime_against_st (state UT TEXT,DISTRICT TEXT,Year INT,Murder INT,Rape INT,Kidanpping INT,Dacoity INT,Robbery INT,Arson  INT,Hurt INT,PCR INT,POA INT,Other Crimes INT) \")\n",
    "db.commit()"
   ]
  },
  {
   "cell_type": "code",
   "execution_count": 23,
   "id": "7f8a854f",
   "metadata": {},
   "outputs": [],
   "source": [
    "with open('02_District_wise_crimes_committed_against_ST_2001_2012.csv','r') as file :\n",
    "    #where r is read as\n",
    "    no_records=0\n",
    "    for row in file:\n",
    "        cursor.execute(\"INSERT INTO crime_against_st VALUES(?,?,?,?,?,?,?,?,?,?,?,?,?)\",row.split(\",\"))#it will split the data row.split\n",
    "        db.commit()\n",
    "        no_records += 1"
   ]
  },
  {
   "cell_type": "code",
   "execution_count": 24,
   "id": "bf8db80c",
   "metadata": {},
   "outputs": [
    {
     "name": "stdout",
     "output_type": "stream",
     "text": [
      "9019 Records Inserted\n"
     ]
    }
   ],
   "source": [
    "print(no_records,'Records Inserted')"
   ]
  },
  {
   "cell_type": "markdown",
   "id": "c7164837",
   "metadata": {},
   "source": [
    "### 3.5 Write SQL query to find the highest number of dacoity/robbery in which district."
   ]
  },
  {
   "cell_type": "code",
   "execution_count": 26,
   "id": "4ac5f7cd",
   "metadata": {},
   "outputs": [
    {
     "name": "stdout",
     "output_type": "stream",
     "text": [
      "('\"STATE/UT\"', '\"DISTRICT\"', '\"Year\"', '\"Dacoity\"', '\"Robbery\"')\n"
     ]
    }
   ],
   "source": [
    "result=cursor.execute(\"SELECT State UT,DISTRICT ,Year, MAX(Dacoity), MAX(Robbery) FROM crime_against_st WHERE NOT DISTRICT ='TOTAL'  \")\n",
    "for row in result:\n",
    "    print(row)"
   ]
  },
  {
   "cell_type": "markdown",
   "id": "59f7629d",
   "metadata": {},
   "source": [
    "### 3.6 Write SQL query to find in which districts(All) the lowest number of murders happened"
   ]
  },
  {
   "cell_type": "code",
   "execution_count": 27,
   "id": "b800df42",
   "metadata": {},
   "outputs": [
    {
     "name": "stdout",
     "output_type": "stream",
     "text": [
      "('\"A & N ISLANDS\"', '\"ANDAMAN\"', 0)\n",
      "('\"ANDHRA PRADESH\"', '\"ADILABAD\"', 0)\n",
      "('\"ARUNACHAL PRADESH\"', '\"CHANGLANG\"', 0)\n",
      "('\"ASSAM\"', '\"BARPETA\"', 0)\n",
      "('\"BIHAR\"', '\"ARWAL\"', 0)\n",
      "('\"CHANDIGARH\"', '\"CHANDIGARH\"', 0)\n",
      "('\"CHHATTISGARH\"', '\"BALRAMPUR\"', 0)\n",
      "('\"D & N HAVELI\"', '\"D and N HAVELI\"', 0)\n",
      "('\"DAMAN & DIU\"', '\"DAMAN\"', 0)\n",
      "('\"DELHI\"', '\"CENTRAL\"', 0)\n",
      "('\"GOA\"', '\"NORTH GOA\"', 0)\n",
      "('\"GUJARAT\"', '\"AHMEDABAD COMMR.\"', 0)\n",
      "('\"HARYANA\"', '\"AMBALA\"', 0)\n",
      "('\"HIMACHAL PRADESH\"', '\"BILASPUR\"', 0)\n",
      "('\"JAMMU & KASHMIR\"', '\"ANANTNAG\"', 0)\n",
      "('\"JHARKHAND\"', '\"BOKARO\"', 0)\n",
      "('\"KARNATAKA\"', '\"BAGALKOT\"', 0)\n",
      "('\"KERALA\"', '\"ALAPUZHA\"', 0)\n",
      "('\"LAKSHADWEEP\"', '\"LAKSHADWEEP\"', 0)\n",
      "('\"MADHYA PRADESH\"', '\"BETUL\"', 0)\n",
      "('\"MAHARASHTRA\"', '\"AKOLA\"', 0)\n",
      "('\"MANIPUR\"', '\"BISHNUPUR\"', 0)\n",
      "('\"MEGHALAYA\"', '\"GARO HILLS EAST\"', 0)\n",
      "('\"MIZORAM\"', '\"AIZAWL\"', 0)\n",
      "('\"NAGALAND\"', '\"DIMAPUR\"', 0)\n",
      "('\"ODISHA\"', '\"ANGUL\"', 0)\n",
      "('\"PUDUCHERRY\"', '\"PONDICHERRY\"', 0)\n",
      "('\"PUNJAB\"', '\"AMRITSAR\"', 0)\n",
      "('\"RAJASTHAN\"', '\"AJMER\"', 0)\n",
      "('\"SIKKIM\"', '\"NORTH\"', 0)\n",
      "('\"TAMIL NADU\"', '\"ARIYALUR\"', 0)\n",
      "('\"TRIPURA\"', '\"DHALAI\"', 0)\n",
      "('\"UTTAR PRADESH\"', '\"AGRA\"', 0)\n",
      "('\"UTTARAKHAND\"', '\"ALMORA\"', 0)\n",
      "('\"WEST BENGAL\"', '\"24 PARGANAS NORTH\"', 0)\n"
     ]
    }
   ],
   "source": [
    "result=cursor.execute(\"SELECT State UT,DISTRICT, Murder FROM crime_against_st WHERE Murder=(SELECT MIN(Murder) FROM crime_against_st) GROUP BY state \")\n",
    "for row in result:\n",
    "    print(row)"
   ]
  },
  {
   "cell_type": "markdown",
   "id": "e3c041b8",
   "metadata": {},
   "source": [
    "* The Above result of query shows the minimum number of Murdrs happened in eah Ditsrict\n",
    "\n",
    "### 3.7 Write SQL query to find the number of murders in ascending order in district and yearwise."
   ]
  },
  {
   "cell_type": "code",
   "execution_count": 28,
   "id": "b1dc0662",
   "metadata": {},
   "outputs": [
    {
     "name": "stdout",
     "output_type": "stream",
     "text": [
      "('\"A & N ISLANDS\"', '\"ANDAMAN\"', 2001, 0)\n",
      "('\"ANDHRA PRADESH\"', '\"ADILABAD\"', 2001, 0)\n",
      "('\"ARUNACHAL PRADESH\"', '\"CHANGLANG\"', 2001, 0)\n",
      "('\"ASSAM\"', '\"BARPETA\"', 2001, 0)\n",
      "('\"CHANDIGARH\"', '\"CHANDIGARH\"', 2001, 0)\n",
      "('\"CHHATTISGARH\"', '\"BALRAMPUR\"', 2001, 0)\n",
      "('\"D & N HAVELI\"', '\"D and N HAVELI\"', 2001, 0)\n",
      "('\"DAMAN & DIU\"', '\"DAMAN\"', 2001, 0)\n",
      "('\"DELHI\"', '\"CENTRAL\"', 2001, 0)\n",
      "('\"GOA\"', '\"NORTH GOA\"', 2001, 0)\n",
      "('\"GUJARAT\"', '\"AHMEDABAD COMMR.\"', 2001, 0)\n",
      "('\"HARYANA\"', '\"AMBALA\"', 2001, 0)\n",
      "('\"HIMACHAL PRADESH\"', '\"BILASPUR\"', 2001, 0)\n",
      "('\"JAMMU & KASHMIR\"', '\"ANANTNAG\"', 2001, 0)\n",
      "('\"JHARKHAND\"', '\"BOKARO\"', 2001, 0)\n",
      "('\"KARNATAKA\"', '\"BAGALKOT\"', 2001, 0)\n",
      "('\"KERALA\"', '\"ALAPUZHA\"', 2001, 0)\n",
      "('\"LAKSHADWEEP\"', '\"LAKSHADWEEP\"', 2001, 0)\n",
      "('\"MANIPUR\"', '\"BISHNUPUR\"', 2001, 0)\n",
      "('\"MEGHALAYA\"', '\"GARO HILLS EAST\"', 2001, 0)\n",
      "('\"MIZORAM\"', '\"AIZAWL\"', 2001, 0)\n",
      "('\"NAGALAND\"', '\"DIMAPUR\"', 2001, 0)\n",
      "('\"ODISHA\"', '\"ANGUL\"', 2001, 0)\n",
      "('\"PUDUCHERRY\"', '\"PONDICHERRY\"', 2001, 0)\n",
      "('\"PUNJAB\"', '\"AMRITSAR\"', 2001, 0)\n",
      "('\"RAJASTHAN\"', '\"AJMER\"', 2001, 0)\n",
      "('\"TAMIL NADU\"', '\"ARIYALUR\"', 2001, 0)\n",
      "('\"TRIPURA\"', '\"DHALAI\"', 2001, 0)\n",
      "('\"UTTAR PRADESH\"', '\"AGRA\"', 2001, 0)\n",
      "('\"UTTARAKHAND\"', '\"ALMORA\"', 2001, 0)\n",
      "('\"WEST BENGAL\"', '\"24 PARGANAS NORTH\"', 2001, 0)\n",
      "('\"BIHAR\"', '\"ARARIA\"', 2001, 1)\n",
      "('\"MADHYA PRADESH\"', '\"BALAGHAT\"', 2001, 1)\n",
      "('\"MAHARASHTRA\"', '\"AHMEDNAGAR\"', 2001, 1)\n",
      "('\"SIKKIM\"', '\"EAST\"', 2001, 4)\n",
      "('\"STATE/UT\"', '\"DISTRICT\"', '\"Year\"', '\"Murder\"')\n"
     ]
    }
   ],
   "source": [
    "result=cursor.execute(\"SELECT  state, DISTRICT, Year,Murder FROM crime_against_st GROUP BY state ORDER BY Murder  \")\n",
    "for row in result:\n",
    "    print(row)"
   ]
  },
  {
   "cell_type": "markdown",
   "id": "e863ff74",
   "metadata": {},
   "source": [
    "### 3.8.1Insert records of STATE/UT, DISTRICT, YEAR, MURDER, ATTEMPT TO MURDER, and RAPE columns only from 01_District_wise_crimes_committed_IPC_2001_2012.csv into a new table"
   ]
  },
  {
   "cell_type": "code",
   "execution_count": 29,
   "id": "e051ebd1",
   "metadata": {},
   "outputs": [],
   "source": [
    "import pandas as pd"
   ]
  },
  {
   "cell_type": "code",
   "execution_count": 30,
   "id": "ed149c50",
   "metadata": {},
   "outputs": [
    {
     "data": {
      "text/plain": [
       "<sqlite3.Cursor at 0x219dd223b90>"
      ]
     },
     "execution_count": 30,
     "metadata": {},
     "output_type": "execute_result"
    }
   ],
   "source": [
    "cursor.execute (\"CREATE TABLE crime_ipc(STATE UT TEXT,DISTRICT TEXT,YEAR INT, MURDER INT,ATTEMPT_to_MURDER INT,RAPE INT) \")"
   ]
  },
  {
   "cell_type": "code",
   "execution_count": 31,
   "id": "e8230f45",
   "metadata": {},
   "outputs": [],
   "source": [
    "db.commit()"
   ]
  },
  {
   "cell_type": "code",
   "execution_count": 33,
   "id": "b33e6001",
   "metadata": {},
   "outputs": [],
   "source": [
    "with open('01_District_wise_crimes_committed_IPC_2001_2012.csv','r') as file :\n",
    "    #here r is read as\n",
    "    no_records=0\n",
    "    for row in file:\n",
    "        cursor.execute(\"INSERT INTO crime_ipc VALUES(?,?,?,?,?,?)\",row.split(\",\"))#it will split the data row.split\n",
    "        db.commit()\n",
    "        no_records += 1"
   ]
  },
  {
   "cell_type": "code",
   "execution_count": 34,
   "id": "28c685ad",
   "metadata": {},
   "outputs": [
    {
     "name": "stdout",
     "output_type": "stream",
     "text": [
      "9018 Records Inserted\n"
     ]
    }
   ],
   "source": [
    "print(no_records,'Records Inserted')"
   ]
  },
  {
   "cell_type": "markdown",
   "id": "800ed046",
   "metadata": {},
   "source": [
    "#### 3.8.2 Write SQL query to find which District in each state/ut has the highest number of murders yearwise. Your output should show STATE/UT, YEAR, DISTRICT, and MURDERS."
   ]
  },
  {
   "cell_type": "code",
   "execution_count": 35,
   "id": "8547904a",
   "metadata": {},
   "outputs": [
    {
     "name": "stdout",
     "output_type": "stream",
     "text": [
      "('STATE/UT', 'YEAR', 'DISTRICT', 'MURDER')\n",
      "('BIHAR', 2004, 'PATNA', 542)\n",
      "('UTTAR PRADESH', 2001, 'MUZAFFARNAGAR', 324)\n",
      "('MAHARASHTRA', 2001, 'MUMBAI', 295)\n",
      "('JHARKHAND', 2002, 'RANCHI', 270)\n",
      "('WEST BENGAL', 2010, 'PASCHIM MIDNAPUR', 268)\n",
      "('KARNATAKA', 2010, 'BANGALORE COMMR.', 266)\n",
      "('GUJARAT', 2002, 'AHMEDABAD COMMR.', 222)\n",
      "('ANDHRA PRADESH', 2001, 'RANGA REDDY', 214)\n",
      "('TAMIL NADU', 2012, 'CHENNAI', 180)\n",
      "('JAMMU & KASHMIR', 2001, 'BARAMULLA', 144)\n",
      "('ASSAM', 2007, 'TINSUKIA', 143)\n",
      "('MADHYA PRADESH', 2004, 'JHABUA', 139)\n",
      "('CHHATTISGARH', 2006, 'BIZAPUR', 139)\n",
      "('TRIPURA', 2003, 'WEST', 136)\n",
      "('DELHI UT', 2002, 'NORTH WEST', 135)\n",
      "('ODISHA', 2009, 'KEONJHAR', 109)\n",
      "('RAJASTHAN', 2011, 'ALWAR', 104)\n",
      "('UTTARAKHAND', 2001, 'HARIDWAR', 94)\n",
      "('HARYANA', 2006, 'GURGAON', 93)\n",
      "('PUNJAB', 2010, 'CP LUDHIANA', 90)\n",
      "('NAGALAND', 2008, 'DIMAPUR', 64)\n",
      "('MANIPUR', 2007, 'IMPHAL WEST', 61)\n",
      "('KERALA', 2002, 'TRIVANDRUM', 58)\n",
      "('MEGHALAYA', 2003, 'JAINTIA HILLS', 52)\n",
      "('HIMACHAL PRADESH', 2003, 'KANGRA', 38)\n",
      "('GOA', 2009, 'NORTH GOA', 33)\n",
      "('PUDUCHERRY', 2011, 'PUDUCHERRY', 32)\n",
      "('CHANDIGARH', 2002, 'CHANDIGARH', 31)\n",
      "('MIZORAM', 2010, 'AIZAWL', 23)\n",
      "('ARUNACHAL PRADESH', 2007, 'LOHIT', 17)\n",
      "('A & N ISLANDS', 2003, 'ANDAMAN', 16)\n",
      "('D & N HAVELI', 2011, 'D and N HAVELI', 14)\n",
      "('SIKKIM', 2001, 'EAST', 13)\n",
      "('DAMAN & DIU', 2007, 'DAMAN', 12)\n",
      "('LAKSHADWEEP', 2001, 'LAKSHADWEEP', 1)\n"
     ]
    }
   ],
   "source": [
    "result=cursor.execute(\"SELECT  state UT, Year,DISTRICT ,MAX(MURDER) FROM crime_ipc women WHERE NOT DISTRICT='TOTAL' AND NOT DISTRICT='DELHI UT TOTAL' GROUP BY UT ORDER BY MURDER DESC\")\n",
    "for row in result:\n",
    "    print(row)"
   ]
  },
  {
   "cell_type": "markdown",
   "id": "4299b3f9",
   "metadata": {},
   "source": [
    "#### 3.8.3 Store the above data (the result of 3.2) in DataFrame and analyze districts that appear 3 or more than 3 years and print the corresponding state/ut, district, murders, and year in descending order."
   ]
  },
  {
   "cell_type": "code",
   "execution_count": 40,
   "id": "d79bf28e",
   "metadata": {},
   "outputs": [
    {
     "name": "stdout",
     "output_type": "stream",
     "text": [
      "('\"STATE/UT\"', '\"DISTRICT\"', '\"Year\"', '\"Rape\"', '\"Kidnapping and Abduction\"')\n",
      "('\"UTTAR PRADESH\"', '\"TOTAL\"', 2012, 3425, 7910)\n",
      "('\"UTTAR PRADESH\"', '\"TOTAL\"', 2011, 3406, 7525)\n",
      "('\"UTTAR PRADESH\"', '\"TOTAL\"', 2010, 3135, 5468)\n",
      "('\"UTTAR PRADESH\"', '\"TOTAL\"', 2009, 2998, 5078)\n",
      "('\"UTTAR PRADESH\"', '\"TOTAL\"', 2008, 2937, 4439)\n",
      "('\"UTTAR PRADESH\"', '\"TOTAL\"', 2007, 3010, 3363)\n",
      "('\"UTTAR PRADESH\"', '\"TOTAL\"', 2001, 2851, 2879)\n",
      "('\"UTTAR PRADESH\"', '\"TOTAL\"', 2006, 2900, 2551)\n",
      "('\"UTTAR PRADESH\"', '\"TOTAL\"', 2004, 2875, 2324)\n",
      "('\"UTTAR PRADESH\"', '\"TOTAL\"', 2002, 2891, 2298)\n",
      "('\"UTTAR PRADESH\"', '\"TOTAL\"', 2005, 2921, 2256)\n",
      "('\"RAJASTHAN\"', '\"TOTAL\"', 2003, 2738, 1750)\n"
     ]
    }
   ],
   "source": [
    "#.3.2 Write SQL query to find the highest number of rapes & Kidnappings that happened in which state, District, and year\n",
    "data=cursor.execute(\"SELECT  state UT, DISTRICT ,Year ,MAX(Rape), MAX(Kindanpping) FROM crime_against_women WHERE NOT DISTRICT='TOTAL' AND NOT DISTRICT='DELHI UT TOTAL' GROUP BY Year ORDER BY Kindanpping DESC\")\n",
    "for row in data:\n",
    "    print(row)"
   ]
  },
  {
   "cell_type": "code",
   "execution_count": null,
   "id": "02faccc0",
   "metadata": {},
   "outputs": [],
   "source": []
  }
 ],
 "metadata": {
  "kernelspec": {
   "display_name": "Python 3 (ipykernel)",
   "language": "python",
   "name": "python3"
  },
  "language_info": {
   "codemirror_mode": {
    "name": "ipython",
    "version": 3
   },
   "file_extension": ".py",
   "mimetype": "text/x-python",
   "name": "python",
   "nbconvert_exporter": "python",
   "pygments_lexer": "ipython3",
   "version": "3.9.13"
  }
 },
 "nbformat": 4,
 "nbformat_minor": 5
}
